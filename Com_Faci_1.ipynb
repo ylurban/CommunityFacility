{
 "cells": [
  {
   "cell_type": "code",
   "execution_count": 1,
   "metadata": {
    "collapsed": false
   },
   "outputs": [
    {
     "name": "stdout",
     "output_type": "stream",
     "text": [
      "Populating the interactive namespace from numpy and matplotlib\n"
     ]
    }
   ],
   "source": [
    "import numpy as np\n",
    "import pandas as pd\n",
    "import datetime\n",
    "import matplotlib.pyplot as plt\n",
    "import scipy\n",
    "from scipy import stats\n",
    "%pylab inline\n",
    "from matplotlib import pyplot as plt\n",
    "from mpl_toolkits.mplot3d import Axes3D\n",
    "from mpl_toolkits.mplot3d import proj3d\n",
    "import statsmodels.formula.api as smf\n",
    "import sklearn\n",
    "import geopandas as gp\n",
    "from sklearn.cluster import KMeans\n",
    "from sklearn.metrics import silhouette_score\n",
    "import random\n",
    "#import shapefile"
   ]
  },
  {
   "cell_type": "code",
   "execution_count": 7,
   "metadata": {
    "collapsed": true
   },
   "outputs": [],
   "source": [
    "senCen = pd.read_csv(\"/Users/ericlaibuffalo/CUSP/Data/NYC_Data/Community_Facility/DFTA_Senior_Center_Map.csv\")"
   ]
  },
  {
   "cell_type": "code",
   "execution_count": 8,
   "metadata": {
    "collapsed": false
   },
   "outputs": [
    {
     "data": {
      "text/plain": [
       "'108 146TH STREET\\nMANHATTAN, NY 10039\\n(40.82123477265024, -73.93611928704553)'"
      ]
     },
     "execution_count": 8,
     "metadata": {},
     "output_type": "execute_result"
    }
   ],
   "source": [
    "senCen[\"Location 1\"][0]"
   ]
  },
  {
   "cell_type": "code",
   "execution_count": 12,
   "metadata": {
    "collapsed": false
   },
   "outputs": [
    {
     "data": {
      "text/plain": [
       "'(40.82123477265024, -73.93611928704553)'"
      ]
     },
     "execution_count": 12,
     "metadata": {},
     "output_type": "execute_result"
    }
   ],
   "source": [
    "senCen[\"Location 1\"][0].split('\\n')[2]"
   ]
  },
  {
   "cell_type": "code",
   "execution_count": 28,
   "metadata": {
    "collapsed": false
   },
   "outputs": [
    {
     "name": "stderr",
     "output_type": "stream",
     "text": [
      "/Users/ericlaibuffalo/anaconda/lib/python2.7/site-packages/ipykernel/__main__.py:6: SettingWithCopyWarning: \n",
      "A value is trying to be set on a copy of a slice from a DataFrame\n",
      "\n",
      "See the the caveats in the documentation: http://pandas.pydata.org/pandas-docs/stable/indexing.html#indexing-view-versus-copy\n",
      "/Users/ericlaibuffalo/anaconda/lib/python2.7/site-packages/ipykernel/__main__.py:7: SettingWithCopyWarning: \n",
      "A value is trying to be set on a copy of a slice from a DataFrame\n",
      "\n",
      "See the the caveats in the documentation: http://pandas.pydata.org/pandas-docs/stable/indexing.html#indexing-view-versus-copy\n",
      "/Users/ericlaibuffalo/anaconda/lib/python2.7/site-packages/ipykernel/__main__.py:8: SettingWithCopyWarning: \n",
      "A value is trying to be set on a copy of a slice from a DataFrame\n",
      "\n",
      "See the the caveats in the documentation: http://pandas.pydata.org/pandas-docs/stable/indexing.html#indexing-view-versus-copy\n",
      "/Users/ericlaibuffalo/anaconda/lib/python2.7/site-packages/ipykernel/__main__.py:9: SettingWithCopyWarning: \n",
      "A value is trying to be set on a copy of a slice from a DataFrame\n",
      "\n",
      "See the the caveats in the documentation: http://pandas.pydata.org/pandas-docs/stable/indexing.html#indexing-view-versus-copy\n"
     ]
    }
   ],
   "source": [
    "senCen[\"latLon\"] = ' '\n",
    "senCen[\"Lat\"] = ' '\n",
    "senCen[\"Lon\"] = ' '\n",
    "\n",
    "for i in range(0, len(senCen)-1):\n",
    "    senCen[\"latLon\"][i] = senCen[\"Location 1\"][i].split('\\n')[2]\n",
    "    senCen[\"latLon\"][i] = senCen[\"latLon\"][i][senCen[\"latLon\"][i].index(\"(\") + 1:senCen[\"latLon\"][i].rindex(\")\")]\n",
    "    senCen[\"Lat\"][i] = [x.strip() for x in senCen[\"latLon\"][i].split(',')][0]\n",
    "    senCen[\"Lon\"][i] = [x.strip() for x in senCen[\"latLon\"][i].split(',')][1]\n",
    "    \n",
    "    "
   ]
  },
  {
   "cell_type": "code",
   "execution_count": 33,
   "metadata": {
    "collapsed": false
   },
   "outputs": [
    {
     "data": {
      "text/html": [
       "<div>\n",
       "<table border=\"1\" class=\"dataframe\">\n",
       "  <thead>\n",
       "    <tr style=\"text-align: right;\">\n",
       "      <th></th>\n",
       "      <th>Program Name</th>\n",
       "      <th>Sponsor</th>\n",
       "      <th>Borough</th>\n",
       "      <th>Zipcode</th>\n",
       "      <th>Phone</th>\n",
       "      <th>Location 1</th>\n",
       "      <th>latLon</th>\n",
       "      <th>Lat</th>\n",
       "      <th>Lon</th>\n",
       "    </tr>\n",
       "  </thead>\n",
       "  <tbody>\n",
       "    <tr>\n",
       "      <th>0</th>\n",
       "      <td>A PHILIP RANDOLPH SENIOR CENTER</td>\n",
       "      <td>UNITED BLOCK ASSOCIATION INC</td>\n",
       "      <td>MANHATTAN</td>\n",
       "      <td>10039</td>\n",
       "      <td>212-283-7904</td>\n",
       "      <td>108 146TH STREET\\nMANHATTAN, NY 10039\\n(40.821...</td>\n",
       "      <td>40.82123477265024, -73.93611928704553</td>\n",
       "      <td>40.82123477265024</td>\n",
       "      <td>-73.93611928704553</td>\n",
       "    </tr>\n",
       "    <tr>\n",
       "      <th>1</th>\n",
       "      <td>ABE STARK SENIOR CENTER</td>\n",
       "      <td>BERGEN BASIN COMM DEV CORP/MILLENNIUM DEV CORP</td>\n",
       "      <td>BROOKLYN</td>\n",
       "      <td>11236</td>\n",
       "      <td>718 272-9515</td>\n",
       "      <td>10315 FARRAGUT ROAD\\nBROOKLYN, NY 11236\\n(40.6...</td>\n",
       "      <td>40.64962602084508, -73.89935633321575</td>\n",
       "      <td>40.64962602084508</td>\n",
       "      <td>-73.89935633321575</td>\n",
       "    </tr>\n",
       "  </tbody>\n",
       "</table>\n",
       "</div>"
      ],
      "text/plain": [
       "                      Program Name  \\\n",
       "0  A PHILIP RANDOLPH SENIOR CENTER   \n",
       "1          ABE STARK SENIOR CENTER   \n",
       "\n",
       "                                          Sponsor    Borough  Zipcode  \\\n",
       "0                    UNITED BLOCK ASSOCIATION INC  MANHATTAN    10039   \n",
       "1  BERGEN BASIN COMM DEV CORP/MILLENNIUM DEV CORP   BROOKLYN    11236   \n",
       "\n",
       "          Phone                                         Location 1  \\\n",
       "0  212-283-7904  108 146TH STREET\\nMANHATTAN, NY 10039\\n(40.821...   \n",
       "1  718 272-9515  10315 FARRAGUT ROAD\\nBROOKLYN, NY 11236\\n(40.6...   \n",
       "\n",
       "                                  latLon                Lat  \\\n",
       "0  40.82123477265024, -73.93611928704553  40.82123477265024   \n",
       "1  40.64962602084508, -73.89935633321575  40.64962602084508   \n",
       "\n",
       "                  Lon  \n",
       "0  -73.93611928704553  \n",
       "1  -73.89935633321575  "
      ]
     },
     "execution_count": 33,
     "metadata": {},
     "output_type": "execute_result"
    }
   ],
   "source": [
    "senCen[:2]"
   ]
  },
  {
   "cell_type": "code",
   "execution_count": 35,
   "metadata": {
    "collapsed": true
   },
   "outputs": [],
   "source": [
    "senCen.to_csv(\"seniorCenter.csv\")"
   ]
  },
  {
   "cell_type": "code",
   "execution_count": null,
   "metadata": {
    "collapsed": true
   },
   "outputs": [],
   "source": []
  }
 ],
 "metadata": {
  "kernelspec": {
   "display_name": "Python 2",
   "language": "python",
   "name": "python2"
  },
  "language_info": {
   "codemirror_mode": {
    "name": "ipython",
    "version": 2
   },
   "file_extension": ".py",
   "mimetype": "text/x-python",
   "name": "python",
   "nbconvert_exporter": "python",
   "pygments_lexer": "ipython2",
   "version": "2.7.11"
  }
 },
 "nbformat": 4,
 "nbformat_minor": 0
}
